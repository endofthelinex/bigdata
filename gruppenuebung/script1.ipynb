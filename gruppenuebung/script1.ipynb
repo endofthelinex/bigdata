{
 "cells": [
  {
   "cell_type": "code",
   "execution_count": 68,
   "outputs": [],
   "source": [
    "import pandas as pd\n",
    "import numpy as np\n",
    "import sklearn\n",
    "from sklearn import neighbors\n",
    "from sklearn import ensemble\n",
    "from sklearn.metrics import f1_score"
   ],
   "metadata": {
    "collapsed": false,
    "pycharm": {
     "name": "#%%\n"
    }
   }
  },
  {
   "cell_type": "code",
   "execution_count": 69,
   "outputs": [],
   "source": [
    "# read training and test data\n",
    "train = pd.read_csv('online_shoppers_intention_train.csv')\n",
    "test = pd.read_csv('online_shoppers_intention_test.csv')\n"
   ],
   "metadata": {
    "collapsed": false,
    "pycharm": {
     "name": "#%%\n"
    }
   }
  },
  {
   "cell_type": "code",
   "execution_count": 70,
   "outputs": [],
   "source": [
    "def analyze_algo(algo_name, classifier, train, test):\n",
    "    \"\"\" Analyzes ML algorithm performance.\n",
    "    Create classifier during function call! \"\"\"\n",
    "\n",
    "    # select the last column as label (y)\n",
    "    X_train = train.iloc[:, :-1].values\n",
    "    y_train = train.iloc[:, -1].values\n",
    "    X_test = test.iloc[:, :-1].values\n",
    "    y_test = test.iloc[:, -1].values\n",
    "\n",
    "    # Training: Fit classifier to the training set\n",
    "    classifier.fit(X_train, y_train)\n",
    "\n",
    "    # predict test set results\n",
    "    y_pred = classifier.predict(X_test)\n",
    "\n",
    "    # print the performance results for the predicted test results\n",
    "    print('')\n",
    "    print(algo_name)\n",
    "    print('F1 Score:', f1_score(y_test, y_pred))\n",
    "    cross_val = np.mean(sklearn.model_selection.cross_val_score(classifier, X_train, y_train, cv=10, scoring='f1_macro'))\n",
    "    print('Cross Validation:', cross_val)"
   ],
   "metadata": {
    "collapsed": false,
    "pycharm": {
     "name": "#%%\n"
    }
   }
  },
  {
   "cell_type": "code",
   "execution_count": 71,
   "outputs": [],
   "source": [
    "classifier = neighbors.KNeighborsClassifier()"
   ],
   "metadata": {
    "collapsed": false,
    "pycharm": {
     "name": "#%%\n"
    }
   }
  },
  {
   "cell_type": "code",
   "execution_count": 72,
   "outputs": [
    {
     "data": {
      "text/plain": "{'algorithm': 'auto',\n 'leaf_size': 30,\n 'metric': 'minkowski',\n 'metric_params': None,\n 'n_jobs': None,\n 'n_neighbors': 5,\n 'p': 2,\n 'weights': 'uniform'}"
     },
     "execution_count": 72,
     "metadata": {},
     "output_type": "execute_result"
    }
   ],
   "source": [
    "classifier.get_params()"
   ],
   "metadata": {
    "collapsed": false,
    "pycharm": {
     "name": "#%%\n"
    }
   }
  },
  {
   "cell_type": "code",
   "execution_count": 73,
   "outputs": [],
   "source": [
    "param_grid = {'n_neighbors': [1, 15], 'weights': ['uniform', 'distance'], 'metric': ['euclidean', 'manhattan', 'minkowski']}\n",
    "search = sklearn.model_selection.GridSearchCV(classifier, param_grid, cv=10, scoring='f1_macro')"
   ],
   "metadata": {
    "collapsed": false,
    "pycharm": {
     "name": "#%%\n"
    }
   }
  },
  {
   "cell_type": "code",
   "execution_count": 74,
   "outputs": [
    {
     "data": {
      "text/plain": "GridSearchCV(cv=10, estimator=KNeighborsClassifier(),\n             param_grid={'metric': ['euclidean', 'manhattan', 'minkowski'],\n                         'n_neighbors': [1, 15],\n                         'weights': ['uniform', 'distance']},\n             scoring='f1_macro')"
     },
     "execution_count": 74,
     "metadata": {},
     "output_type": "execute_result"
    }
   ],
   "source": [
    "X_train = train.iloc[:, :-1].values\n",
    "y_train = train.iloc[:, -1].values\n",
    "X_test = test.iloc[:, :-1].values\n",
    "y_test = test.iloc[:, -1].values\n",
    "search.fit(X_train, y_train)"
   ],
   "metadata": {
    "collapsed": false,
    "pycharm": {
     "name": "#%%\n"
    }
   }
  },
  {
   "cell_type": "code",
   "execution_count": 75,
   "outputs": [
    {
     "data": {
      "text/plain": "{'mean_fit_time': array([1.54685974e-03, 3.08048725e-03, 1.56507492e-03, 5.96451759e-04,\n        3.93199921e-04, 4.83710766e-03, 0.00000000e+00, 1.74746513e-03,\n        9.86099243e-05, 0.00000000e+00, 1.50241852e-03, 0.00000000e+00]),\n 'std_fit_time': array([0.00464058, 0.00616266, 0.00469522, 0.00066181, 0.00048252,\n        0.01205852, 0.        , 0.00460884, 0.00029583, 0.        ,\n        0.00450726, 0.        ]),\n 'mean_score_time': array([0.10005813, 0.05003598, 0.10466244, 0.08671501, 0.09332602,\n        0.07287657, 0.12046878, 0.09824233, 0.07614913, 0.05004168,\n        0.10624871, 0.08281741]),\n 'std_score_time': array([0.03731034, 0.00597267, 0.00747286, 0.00915617, 0.00550237,\n        0.01407242, 0.00720174, 0.00642944, 0.00461653, 0.00612613,\n        0.00637651, 0.00729053]),\n 'param_metric': masked_array(data=['euclidean', 'euclidean', 'euclidean', 'euclidean',\n                    'manhattan', 'manhattan', 'manhattan', 'manhattan',\n                    'minkowski', 'minkowski', 'minkowski', 'minkowski'],\n              mask=[False, False, False, False, False, False, False, False,\n                    False, False, False, False],\n        fill_value='?',\n             dtype=object),\n 'param_n_neighbors': masked_array(data=[1, 1, 15, 15, 1, 1, 15, 15, 1, 1, 15, 15],\n              mask=[False, False, False, False, False, False, False, False,\n                    False, False, False, False],\n        fill_value='?',\n             dtype=object),\n 'param_weights': masked_array(data=['uniform', 'distance', 'uniform', 'distance',\n                    'uniform', 'distance', 'uniform', 'distance',\n                    'uniform', 'distance', 'uniform', 'distance'],\n              mask=[False, False, False, False, False, False, False, False,\n                    False, False, False, False],\n        fill_value='?',\n             dtype=object),\n 'params': [{'metric': 'euclidean', 'n_neighbors': 1, 'weights': 'uniform'},\n  {'metric': 'euclidean', 'n_neighbors': 1, 'weights': 'distance'},\n  {'metric': 'euclidean', 'n_neighbors': 15, 'weights': 'uniform'},\n  {'metric': 'euclidean', 'n_neighbors': 15, 'weights': 'distance'},\n  {'metric': 'manhattan', 'n_neighbors': 1, 'weights': 'uniform'},\n  {'metric': 'manhattan', 'n_neighbors': 1, 'weights': 'distance'},\n  {'metric': 'manhattan', 'n_neighbors': 15, 'weights': 'uniform'},\n  {'metric': 'manhattan', 'n_neighbors': 15, 'weights': 'distance'},\n  {'metric': 'minkowski', 'n_neighbors': 1, 'weights': 'uniform'},\n  {'metric': 'minkowski', 'n_neighbors': 1, 'weights': 'distance'},\n  {'metric': 'minkowski', 'n_neighbors': 15, 'weights': 'uniform'},\n  {'metric': 'minkowski', 'n_neighbors': 15, 'weights': 'distance'}],\n 'split0_test_score': array([0.73334676, 0.73334676, 0.79842807, 0.78988459, 0.75320909,\n        0.75320909, 0.77614379, 0.77081388, 0.73334676, 0.73334676,\n        0.79842807, 0.78988459]),\n 'split1_test_score': array([0.74132199, 0.74132199, 0.77081388, 0.7743647 , 0.75629447,\n        0.75629447, 0.75580971, 0.76703399, 0.74132199, 0.74132199,\n        0.77081388, 0.7743647 ]),\n 'split2_test_score': array([0.73882753, 0.73882753, 0.76548397, 0.76374657, 0.73379819,\n        0.73379819, 0.7618826 , 0.76374657, 0.73882753, 0.73882753,\n        0.76548397, 0.76374657]),\n 'split3_test_score': array([0.73434046, 0.73434046, 0.76332494, 0.77251555, 0.7418612 ,\n        0.7418612 , 0.76314853, 0.76332494, 0.73434046, 0.73434046,\n        0.76332494, 0.77251555]),\n 'split4_test_score': array([0.71737568, 0.71737568, 0.78896021, 0.79773821, 0.73582783,\n        0.73582783, 0.77986746, 0.78544043, 0.71737568, 0.71737568,\n        0.78896021, 0.79773821]),\n 'split5_test_score': array([0.71695839, 0.71695839, 0.73528365, 0.73916038, 0.72445375,\n        0.72445375, 0.71537396, 0.71942781, 0.71695839, 0.71695839,\n        0.73528365, 0.73916038]),\n 'split6_test_score': array([0.74844627, 0.74844627, 0.79247665, 0.80032928, 0.7381172 ,\n        0.7381172 , 0.79631282, 0.79925759, 0.74844627, 0.74844627,\n        0.79247665, 0.80032928]),\n 'split7_test_score': array([0.70301636, 0.70301636, 0.77081388, 0.76202118, 0.70809659,\n        0.70809659, 0.74990684, 0.74990684, 0.70301636, 0.70301636,\n        0.77081388, 0.76202118]),\n 'split8_test_score': array([0.70501962, 0.70501962, 0.71289594, 0.71751478, 0.70161593,\n        0.70161593, 0.70367406, 0.70990131, 0.70501962, 0.70501962,\n        0.71289594, 0.71751478]),\n 'split9_test_score': array([0.72204715, 0.72204715, 0.77973989, 0.76899549, 0.72639311,\n        0.72639311, 0.7779971 , 0.7707113 , 0.72204715, 0.72204715,\n        0.77973989, 0.76899549]),\n 'mean_test_score': array([0.72607002, 0.72607002, 0.76782211, 0.76862707, 0.73196674,\n        0.73196674, 0.75801169, 0.75995647, 0.72607002, 0.72607002,\n        0.76782211, 0.76862707]),\n 'std_test_score': array([0.01472009, 0.01472009, 0.0250053 , 0.02429147, 0.01665993,\n        0.01665993, 0.02748691, 0.02598548, 0.01472009, 0.01472009,\n        0.0250053 , 0.02429147]),\n 'rank_test_score': array([9, 9, 3, 1, 7, 7, 6, 5, 9, 9, 3, 1])}"
     },
     "execution_count": 75,
     "metadata": {},
     "output_type": "execute_result"
    }
   ],
   "source": [
    "search.cv_results_"
   ],
   "metadata": {
    "collapsed": false,
    "pycharm": {
     "name": "#%%\n"
    }
   }
  },
  {
   "cell_type": "code",
   "execution_count": 76,
   "outputs": [
    {
     "data": {
      "text/plain": "KNeighborsClassifier(metric='euclidean', n_neighbors=15, weights='distance')"
     },
     "execution_count": 76,
     "metadata": {},
     "output_type": "execute_result"
    }
   ],
   "source": [
    "search.best_estimator_"
   ],
   "metadata": {
    "collapsed": false,
    "pycharm": {
     "name": "#%%\n"
    }
   }
  },
  {
   "cell_type": "code",
   "execution_count": 77,
   "outputs": [],
   "source": [
    "est = search.best_estimator_"
   ],
   "metadata": {
    "collapsed": false,
    "pycharm": {
     "name": "#%%\n"
    }
   }
  },
  {
   "cell_type": "code",
   "execution_count": 78,
   "outputs": [
    {
     "name": "stdout",
     "output_type": "stream",
     "text": [
      "\n",
      "KNeighbors custom\n",
      "F1 Score: 0.6016559337626496\n",
      "Cross Validation: 0.7686270735101891\n"
     ]
    }
   ],
   "source": [
    "analyze_algo('KNeighbors custom', est, train, test)"
   ],
   "metadata": {
    "collapsed": false,
    "pycharm": {
     "name": "#%%\n"
    }
   }
  }
 ],
 "metadata": {
  "kernelspec": {
   "display_name": "Python 3",
   "language": "python",
   "name": "python3"
  },
  "language_info": {
   "codemirror_mode": {
    "name": "ipython",
    "version": 2
   },
   "file_extension": ".py",
   "mimetype": "text/x-python",
   "name": "python",
   "nbconvert_exporter": "python",
   "pygments_lexer": "ipython2",
   "version": "2.7.6"
  }
 },
 "nbformat": 4,
 "nbformat_minor": 0
}